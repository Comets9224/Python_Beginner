{
 "cells": [
  {
   "metadata": {},
   "cell_type": "markdown",
   "source": [
    "模块是一种方式,把功能相近的函数或者类放到一个文件中,一个.py,就是一个模块module,模块名就是文件名去掉后缀py.好处是:\n",
    "-提高了代码的可复用性,可维护性,一个模块编写完毕后,可以很方便的在其他项目中导入\n",
    "-解决了命名冲突,不同模块中相同命名不会冲突\n",
    "\n",
    "不一定是函数,也可能把类放在里面"
   ],
   "id": "5a64802f7597ce09"
  },
  {
   "metadata": {},
   "cell_type": "markdown",
   "source": [
    "os: 提供了与操作系统进行交互的功能，例如文件和目录操作。\n",
    "sys: 提供了对 Python 解释器相关的操作和参数访问。\n",
    "math: 提供了基本的数学函数和常量。\n",
    "datetime: 提供了处理日期和时间的类和方法。\n",
    "time: 提供了时间相关的函数，例如获取当前时间、暂停执行等。\n",
    "random: 提供了生成随机数的函数。\n",
    "re: 提供了正则表达式操作功能。\n",
    "json: 提供了 JSON 数据的编码和解码功能。\n",
    "csv: 提供了读写 CSV 文件的功能。\n",
    "subprocess: 提供了创建和管理子进程的功能。\n",
    "threading: 提供了创建和管理线程的功能。\n",
    "multiprocessing: 提供了创建和管理进程的功能。\n",
    "collections: 提供了高效的数据结构，如 deque、Counter、OrderedDict 等。\n",
    "itertools: 提供了用于操作迭代器的函数。\n",
    "functools: 提供了高阶函数和可调用对象的操作工具。\n",
    "operator: 提供了标准操作符函数，如加减乘除。\n",
    "socket: 提供了网络通信的底层接口。\n",
    "struct: 提供了处理 C 语言结构体的功能。\n",
    "pickle: 提供了对象序列化和反序列化的功能。\n",
    "base64: 提供了 Base64 编码和解码的功能。\n",
    "hashlib: 提供了安全哈希和消息摘要算法。\n",
    "http: 提供了处理 HTTP 请求和响应的功能。\n",
    "urllib: 提供了处理 URL 和进行网络请求的功能。\n",
    "xml: 提供了处理 XML 数据的功能。\n",
    "configparser: 提供了处理配置文件的功能。\n",
    "logging: 提供了记录日志的功能。\n",
    "argparse: 提供了命令行参数解析的功能。\n",
    "shutil: 提供了高级的文件操作功能，例如复制、移动、删除文件和目录。\n",
    "gzip: 提供了对 gzip 文件的读写功能。\n",
    "tarfile: 提供了对 tar 文件的读写功能。\n",
    "zipfile: 提供了对 zip 文件的读写功能。\n",
    "io: 提供了处理文件和流的核心工具。\n",
    "abc: 提供了定义抽象基类的功能。\n",
    "enum: 提供了定义枚举类的功能。\n",
    "typing: 提供了类型提示的功能。"
   ],
   "id": "d4815f2cfb6b0187"
  },
  {
   "metadata": {},
   "cell_type": "markdown",
   "source": [
    "如何自定义模块:\n",
    "如何使用系统模块:\n"
   ],
   "id": "c970135f30d31c1e"
  },
  {
   "metadata": {},
   "cell_type": "markdown",
   "source": "用reload_module是因为 jupyter有自动缓存库的问题,过程中修改,会读不到修改后的库而报错",
   "id": "13b4e6a04ea0a8be"
  },
  {
   "metadata": {
    "ExecuteTime": {
     "end_time": "2024-07-24T12:46:45.563643Z",
     "start_time": "2024-07-24T12:46:45.554181Z"
    }
   },
   "cell_type": "code",
   "source": [
    "list1=[1,2,3,4,5,6,7,8,9]\n",
    "#导入模块\n",
    "\n",
    "import importlib\n",
    "import sys\n",
    "#使用模块中函数   模块名.变量  模块名.函数  模块名.类    (模块名就是没有后缀py的文件名)\n",
    "def reload_module(module_name):\n",
    "    if module_name in sys.modules:\n",
    "        importlib.reload(sys.modules[module_name])\n",
    "    else:\n",
    "        __import__(module_name)\n",
    "import cal\n",
    "reload_module('cal')\n",
    "#函数怎么调用:  使用模块中函数\n",
    "r=cal.add(*list1)\n",
    "print(r)\n",
    "\n",
    "#使用模块变量\n",
    "print(cal.num)\n",
    "#使用模块中类\n",
    "r=cal.Cal(5,'zz')\n",
    "r.test()\n",
    "cal.Cal.test1()  # 模块名.类名.方法名()"
   ],
   "id": "b1deeb238f25ad95",
   "outputs": [
    {
     "name": "stdout",
     "output_type": "stream",
     "text": [
      "45\n",
      "100\n",
      "正在使用calculate进行运算...\n",
      "类名能直接调用的方法\n"
     ]
    }
   ],
   "execution_count": 2
  },
  {
   "metadata": {},
   "cell_type": "markdown",
   "source": [
    "需要别的模块函数和类帮忙怎么办?\n",
    "导入模块:\n",
    "1.import 模块名\n",
    "模块名.变量   模块名.函数   模块名.类\n",
    "\n",
    "2.from 方式\n",
    "from cal import add导入某一部分\n",
    "\n",
    "这样的情况下,不需要.调用了,直接add()  直接函数名即可调用\n",
    " \n",
    "如果form cal import add,num  表示一次导入多个\n",
    "\n",
    "导入类等\n",
    "form cal import add,num,calculate\n",
    "用from直接进行调用  不需要明确加模块名,不需要用点调用了.\n",
    "\n",
    "如果要 全部导入 用from方式呢\n",
    "3.form 模块名 import *   ,*表示所有的该模块全部导入进来\n",
    "4.我要导入 用星号,但我有时候不想取到所有,会用到__all__=['add','num']  用来限制'*号取到的东西,__all__  写在模块的py文件里,列表里是能取到的东西,不想让取到就不要放进去\n",
    " 以下用星号导入:\n",
    " 我们在cal.py文件中,加了一行运行test()   只是导入,结果本次运行的最开头就打印了:我是测试,原因是导入库,会先把整个py文件先加载到内存\n",
    " 无论是import还是 from  都会,加载过程,运行到test\n",
    " \n",
    "解决方法: 在库中要运行的,使用如下语句:\n",
    "if __name__=='__main__':\n",
    "    test()\n",
    "用了以上语句,都会加载,但不会打印\"我是测试\"了\n",
    "在自己模块(py库内部)中  __name__ 打印出就是__main__\n",
    "而外部调用 __name__就是这个模块的模块名里  如果我在当前文件调用cal,  打出的 __name__ 是cal\n",
    "\n",
    "正常情况下,所有导入都要放到最前面"
   ],
   "id": "48d54d3ba0ce2cf9"
  },
  {
   "metadata": {
    "ExecuteTime": {
     "end_time": "2024-07-24T13:51:55.235925Z",
     "start_time": "2024-07-24T13:51:55.224616Z"
    }
   },
   "cell_type": "code",
   "source": [
    "list1=[1,2,3,4,5,6,7,8,9]\n",
    "#导入模块\n",
    "\n",
    "import importlib\n",
    "import sys\n",
    "#使用模块中函数   模块名.变量  模块名.函数  模块名.类    (模块名就是没有后缀py的文件名)\n",
    "def reload_module(module_name):\n",
    "    if module_name in sys.modules:\n",
    "        importlib.reload(sys.modules[module_name])\n",
    "    else:\n",
    "        __import__(module_name)\n",
    "from cal import *\n",
    "reload_module('cal')\n",
    "#函数怎么调用:  使用模块中函数\n",
    "r=add(*list1)\n",
    "print(r)\n",
    "\n",
    "#使用模块变量\n",
    "print(cal.num)\n",
    "#使用模块中类\n",
    "r=Cal(5,'zz')\n",
    "Cal.test1()  # 模块名.类名.方法名()"
   ],
   "id": "a09552ea91e2409e",
   "outputs": [
    {
     "name": "stdout",
     "output_type": "stream",
     "text": [
      "__name__:cal\n",
      "45\n",
      "100\n",
      "类名能直接调用的方法\n"
     ]
    }
   ],
   "execution_count": 11
  },
  {
   "metadata": {},
   "cell_type": "markdown",
   "source": "",
   "id": "21b1b4b60c241466"
  }
 ],
 "metadata": {
  "kernelspec": {
   "display_name": "Python 3",
   "language": "python",
   "name": "python3"
  },
  "language_info": {
   "codemirror_mode": {
    "name": "ipython",
    "version": 2
   },
   "file_extension": ".py",
   "mimetype": "text/x-python",
   "name": "python",
   "nbconvert_exporter": "python",
   "pygments_lexer": "ipython2",
   "version": "2.7.6"
  }
 },
 "nbformat": 4,
 "nbformat_minor": 5
}
