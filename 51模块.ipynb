{
 "cells": [
  {
   "metadata": {},
   "cell_type": "markdown",
   "source": [
    "模块是一种方式,把功能相近的函数或者类放到一个文件中,一个.py,就是一个模块module,模块名就是文件名去掉后缀py.好处是:\n",
    "-提高了代码的可复用性,可维护性,一个模块编写完毕后,可以很方便的在其他项目中导入\n",
    "-解决了命名冲突,不同模块中相同命名不会冲突\n",
    "\n",
    "不一定是函数,也可能把类放在里面"
   ],
   "id": "5a64802f7597ce09"
  },
  {
   "metadata": {},
   "cell_type": "markdown",
   "source": [
    "os: 提供了与操作系统进行交互的功能，例如文件和目录操作。\n",
    "sys: 提供了对 Python 解释器相关的操作和参数访问。\n",
    "math: 提供了基本的数学函数和常量。\n",
    "datetime: 提供了处理日期和时间的类和方法。\n",
    "time: 提供了时间相关的函数，例如获取当前时间、暂停执行等。\n",
    "random: 提供了生成随机数的函数。\n",
    "re: 提供了正则表达式操作功能。\n",
    "json: 提供了 JSON 数据的编码和解码功能。\n",
    "csv: 提供了读写 CSV 文件的功能。\n",
    "subprocess: 提供了创建和管理子进程的功能。\n",
    "threading: 提供了创建和管理线程的功能。\n",
    "multiprocessing: 提供了创建和管理进程的功能。\n",
    "collections: 提供了高效的数据结构，如 deque、Counter、OrderedDict 等。\n",
    "itertools: 提供了用于操作迭代器的函数。\n",
    "functools: 提供了高阶函数和可调用对象的操作工具。\n",
    "operator: 提供了标准操作符函数，如加减乘除。\n",
    "socket: 提供了网络通信的底层接口。\n",
    "struct: 提供了处理 C 语言结构体的功能。\n",
    "pickle: 提供了对象序列化和反序列化的功能。\n",
    "base64: 提供了 Base64 编码和解码的功能。\n",
    "hashlib: 提供了安全哈希和消息摘要算法。\n",
    "http: 提供了处理 HTTP 请求和响应的功能。\n",
    "urllib: 提供了处理 URL 和进行网络请求的功能。\n",
    "xml: 提供了处理 XML 数据的功能。\n",
    "configparser: 提供了处理配置文件的功能。\n",
    "logging: 提供了记录日志的功能。\n",
    "argparse: 提供了命令行参数解析的功能。\n",
    "shutil: 提供了高级的文件操作功能，例如复制、移动、删除文件和目录。\n",
    "gzip: 提供了对 gzip 文件的读写功能。\n",
    "tarfile: 提供了对 tar 文件的读写功能。\n",
    "zipfile: 提供了对 zip 文件的读写功能。\n",
    "io: 提供了处理文件和流的核心工具。\n",
    "abc: 提供了定义抽象基类的功能。\n",
    "enum: 提供了定义枚举类的功能。\n",
    "typing: 提供了类型提示的功能。"
   ],
   "id": "d4815f2cfb6b0187"
  },
  {
   "metadata": {},
   "cell_type": "markdown",
   "source": [
    "如何自定义模块:\n",
    "如何使用系统模块:\n"
   ],
   "id": "c970135f30d31c1e"
  },
  {
   "metadata": {},
   "cell_type": "code",
   "outputs": [],
   "execution_count": null,
   "source": "",
   "id": "d0434791533663b0"
  },
  {
   "metadata": {},
   "cell_type": "code",
   "outputs": [],
   "execution_count": null,
   "source": "",
   "id": "b1deeb238f25ad95"
  }
 ],
 "metadata": {
  "kernelspec": {
   "display_name": "Python 3",
   "language": "python",
   "name": "python3"
  },
  "language_info": {
   "codemirror_mode": {
    "name": "ipython",
    "version": 2
   },
   "file_extension": ".py",
   "mimetype": "text/x-python",
   "name": "python",
   "nbconvert_exporter": "python",
   "pygments_lexer": "ipython2",
   "version": "2.7.6"
  }
 },
 "nbformat": 4,
 "nbformat_minor": 5
}
