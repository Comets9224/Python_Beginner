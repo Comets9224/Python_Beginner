{
 "cells": [
  {
   "metadata": {},
   "cell_type": "markdown",
   "source": [
    "\n",
    "开发模式：所有语言通用的模式,这个模式,用于专用的场景."
   ],
   "id": "a72765932ad501d9"
  },
  {
   "metadata": {},
   "cell_type": "markdown",
   "source": [
    "单例模式：单个开发对象，我不需要用一个开辟一个空间\n",
    "我只需要一块空间\n"
   ],
   "id": "bdb0cd0b4f27df15"
  },
  {
   "metadata": {},
   "cell_type": "code",
   "outputs": [],
   "execution_count": null,
   "source": [
    "class Stu:\n",
    "    pass\n",
    "s=Stu()\n",
    "s1=Stu()\n",
    "s2=Stu()\n",
    "print(s)\n",
    "print(s1)\n",
    "print(s2)  #用一个创建一个空间"
   ],
   "id": "178b8d11f1d7585a"
  },
  {
   "metadata": {},
   "cell_type": "markdown",
   "source": [
    "怎么创建单例： 结果可见  都是同一个地址  创建需要利用__new__创建空间\n",
    "通过类属性  以及if else 分支 反复只输出一个地址,至始至终只用了一个空间\n"
   ],
   "id": "4306c9730c6568a0"
  },
  {
   "metadata": {
    "ExecuteTime": {
     "end_time": "2024-07-23T20:26:52.227807Z",
     "start_time": "2024-07-23T20:26:52.221784Z"
    }
   },
   "cell_type": "code",
   "source": [
    "class Singleton:\n",
    "    #私有化\n",
    "    __instances=None    #每次放的单例地址都放在这\n",
    "    \n",
    "    #重写__new__\n",
    "    def __new__(cls):\n",
    "        if cls.__instances is None:  #刚进这个对象 还没有空间,用__new__造空间\n",
    "            cls.__instances=object.__new__(cls)  #返回None说明没去调init  真正开辟空间的是new \n",
    "            #  object是借助的方法,接着父类的new方法\n",
    "\n",
    "            print(cls.__instances)\n",
    "            return cls.__instances   #通过new创建空间   __new__本就要配合return把地址返回出来使用  返回给创建的s1\n",
    "        else:\n",
    "            return cls.__instances\n",
    "s1=Singleton()\n",
    "s2=Singleton()\n",
    "print(s1)\n",
    "##print(dir(s1))\n",
    "print(s2)"
   ],
   "id": "96a8d7ccff5309",
   "outputs": [
    {
     "name": "stdout",
     "output_type": "stream",
     "text": [
      "<__main__.Singleton object at 0x0000024D5305DB90>\n",
      "<__main__.Singleton object at 0x0000024D5305DB90>\n",
      "['_Singleton__instances', '__class__', '__delattr__', '__dict__', '__dir__', '__doc__', '__eq__', '__format__', '__ge__', '__getattribute__', '__getstate__', '__gt__', '__hash__', '__init__', '__init_subclass__', '__le__', '__lt__', '__module__', '__ne__', '__new__', '__reduce__', '__reduce_ex__', '__repr__', '__setattr__', '__sizeof__', '__str__', '__subclasshook__', '__weakref__']\n",
      "<__main__.Singleton object at 0x0000024D5305DB90>\n"
     ]
    }
   ],
   "execution_count": 9
  },
  {
   "metadata": {},
   "cell_type": "markdown",
   "source": "代码简化:实际具有功能的代码仅仅如下,算是一个模板",
   "id": "dbee15c016e9a001"
  },
  {
   "metadata": {
    "ExecuteTime": {
     "end_time": "2024-07-23T20:53:18.839087Z",
     "start_time": "2024-07-23T20:53:18.833044Z"
    }
   },
   "cell_type": "code",
   "source": [
    "class Singleton:\n",
    "    #私有化\n",
    "    __instances=None    #每次放的单例地址都放在这\n",
    "    \n",
    "    #重写__new__\n",
    "    def __new__(cls):\n",
    "        if cls.__instances is None:  #刚进这个对象 还没有空间,用__new__造空间\n",
    "            cls.__instances=object.__new__(cls)  #返\n",
    "            return cls.__instances  \n",
    "        return cls.__instances"
   ],
   "id": "7ff7039116f269cb",
   "outputs": [],
   "execution_count": 1
  },
  {
   "metadata": {},
   "cell_type": "markdown",
   "source": "继续增加代码:  单例是对内存的优化，发现创建的对象都是同一块地址，不是所有的类都适用，是特殊场景才用。\n",
   "id": "d706cf2ba2bca6bd"
  },
  {
   "metadata": {
    "ExecuteTime": {
     "end_time": "2024-07-24T06:45:49.626653Z",
     "start_time": "2024-07-24T06:45:49.621867Z"
    }
   },
   "cell_type": "code",
   "source": [
    "class Singleton:\n",
    "    #私有化\n",
    "    __instances=None    #每次放的单例地址都放在这\n",
    "    name='jack'\n",
    "    #重写__new__\n",
    "    def __new__(cls):\n",
    "        if cls.__instances is None:  #刚进这个对象 还没有空间,用__new__造空间\n",
    "            cls.__instances=object.__new__(cls)  #返\n",
    "            return cls.__instances  \n",
    "        return cls.__instances\n",
    "    def show(self,n):\n",
    "        print('-------->',Singleton.name,n)\n",
    "        \n",
    "s=Singleton()\n",
    "print(s)\n",
    "s1=Singleton()\n",
    "print(s1)\n",
    "s.show(5)\n",
    "s1.show(7)"
   ],
   "id": "d7ed98376e1f31bb",
   "outputs": [
    {
     "name": "stdout",
     "output_type": "stream",
     "text": [
      "<__main__.Singleton object at 0x000001EBAEEE9250>\n",
      "<__main__.Singleton object at 0x000001EBAEEE9250>\n",
      "--------> jack 5\n",
      "--------> jack 7\n"
     ]
    }
   ],
   "execution_count": 3
  }
 ],
 "metadata": {
  "kernelspec": {
   "display_name": "Python 3",
   "language": "python",
   "name": "python3"
  },
  "language_info": {
   "codemirror_mode": {
    "name": "ipython",
    "version": 2
   },
   "file_extension": ".py",
   "mimetype": "text/x-python",
   "name": "python",
   "nbconvert_exporter": "python",
   "pygments_lexer": "ipython2",
   "version": "2.7.6"
  }
 },
 "nbformat": 4,
 "nbformat_minor": 5
}
