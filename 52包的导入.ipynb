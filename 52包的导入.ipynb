{
 "cells": [
  {
   "metadata": {},
   "cell_type": "markdown",
   "source": [
    "模块导入,是文件和文件之间的调用\n",
    "想再新建一个cal   文件已经存在,是不能新建的\n",
    "名字相同,但能再不同文件夹路径下,但我又需要用到两个同名py内不同的函数,变量,类  怎么办?\n",
    "\n",
    "package和directory的区别是?\n",
    "directory:一般非py文件放文件夹\n",
    "package:全是py文件  区别在 package里有一__init__.py文件  ,在directory文件夹下加__init__.py  那么directory也能变package\n",
    "在不同包里的py文件,同名也不会有冲突,命名最好不要带数字和点\n",
    "一个包里 是多个模块,包的概念比模块又大了\n",
    "\n",
    "项目--->包---->模块---->类---->函数---->变量\n",
    "\n",
    "那这个__init__.py文件有什么作用呢?\n",
    "\n",
    "使用包中  模块中的User类  怎么用：如下"
   ],
   "id": "4f0d20a3430fe066"
  },
  {
   "metadata": {
    "ExecuteTime": {
     "end_time": "2024-07-24T13:52:51.095490Z",
     "start_time": "2024-07-24T13:52:51.089581Z"
    }
   },
   "cell_type": "code",
   "source": [
    "import importlib\n",
    "import sys\n",
    "def reload_module(module_name):\n",
    "    if module_name in sys.modules:\n",
    "        importlib.reload(sys.modules[module_name])\n",
    "    else:\n",
    "        __import__(module_name)\n",
    "\n",
    "from user52test import models\n",
    "reload_module('user52test.models')  #重新加载包里模块时候,要用点 调用\n",
    "u=models.User('admin','123456')\n",
    "u.show()"
   ],
   "id": "d4d3b910a6bcac03",
   "outputs": [
    {
     "name": "stdout",
     "output_type": "stream",
     "text": [
      "Username: admin\n",
      "Password: 123456\n"
     ]
    }
   ],
   "execution_count": 10
  },
  {
   "metadata": {},
   "cell_type": "markdown",
   "source": [
    "上面这样确实很别扭  虽然确实能调用 从user包中找到models 再调用其中User类  更简洁的，直接调包的过程，用包名.模块名  import  User类\n",
    "\n",
    "但是由此可见  不管怎样  函数或者类名 最好是别相同，相同应该也有调用顺序的问题。包需要不同，模块名可以相同，但模块内的类名，变量，函数 不要相同。"
   ],
   "id": "86d2c589ee2c73f2"
  },
  {
   "metadata": {
    "ExecuteTime": {
     "end_time": "2024-07-24T14:40:51.799659Z",
     "start_time": "2024-07-24T14:40:51.793208Z"
    }
   },
   "cell_type": "code",
   "source": [
    "import importlib\n",
    "import sys\n",
    "def reload_module(module_name):\n",
    "    if module_name in sys.modules:\n",
    "        importlib.reload(sys.modules[module_name])\n",
    "    else:\n",
    "        __import__(module_name)\n",
    "from user52test.models import User\n",
    "reload_module('user52test.models')  #重新加载包里模块时候,要用点 调用\n",
    "u = User('admin', '123456')\n",
    "u.show()   #用了User的show方法  \n",
    "from article52test.models import Article\n",
    "reload_module('article52test.models')\n",
    "a=Article('个人总结','zz')\n",
    "a.show()    #用了Article的show方法  所以二者不会串 即使方法名同名。"
   ],
   "id": "d681d219d6491f4d",
   "outputs": [
    {
     "name": "stdout",
     "output_type": "stream",
     "text": [
      "Username: admin\n",
      "Password: 123456\n",
      "文章作者:个人总结文章名字:zz\n"
     ]
    }
   ],
   "execution_count": 18
  },
  {
   "metadata": {},
   "cell_type": "markdown",
   "source": [
    "如果在两个模块中定义了相同的类名，并且这两个类都有各自不同的 show 方法，那么在使用这两个类创建对象时，仍然不会串。因为每个模块的命名空间是独立的，即使类名相同，它们也会根据所属模块来区分, 只要用as  设置一个别名:\n",
    "from user52test.models import MyClass as UserClass\n",
    "from article52test.models import MyClass as ArticleClass\n",
    "\n",
    "如果不用别名:\n",
    "如果你在两个不同的模块中定义了相同的类名，并且在导入时没有使用别名，那么后导入的类会覆盖先前导入的类。这会导致混淆和潜在的错误，因为两个类名相同，但它们的定义和行为不同。\n",
    "\n",
    "实际运行会根据所属的类调用方法,不会混淆,除非类名都相同.\n",
    "每个模块有自己的命名空间，即使类名相同，它们也不会冲突。\n",
    "别名：在导入时使用别名（例如 MyClass as UserClass 和 MyClass as ArticleClass）可以帮助区分相同名称的类。\n",
    "方法绑定：对象会根据其所属的类调用相应的方法，而不会混淆到其他类的方法。\n",
    "\n",
    "对导入包的要求:1.由于路径,需要包的路径和当前运行的文件要同级,否则就要另外配置路径\n",
    "2.__init__.py 文件的存在使得 Python 将包含该文件的目录视为一个包。\n",
    "即使 __init__.py 文件是空的，它也必须存在，以便 Python 能够正确地识别和导入包。\n",
    "下面是伪代码,不能运行的\n",
    "\n"
   ],
   "id": "6c51d4d9797c38f1"
  },
  {
   "metadata": {
    "ExecuteTime": {
     "end_time": "2024-07-24T14:58:06.981054Z",
     "start_time": "2024-07-24T14:58:06.963852Z"
    }
   },
   "cell_type": "code",
   "source": [
    "# user52test/models.py\n",
    "class MyClass:\n",
    "    def __init__(self, username, password):\n",
    "        self.username = username\n",
    "        self.password = password\n",
    "\n",
    "    def show(self):\n",
    "        print(f\"User: {self.username}, Password: {self.password}\")\n",
    "\n",
    "# article52test/models.py\n",
    "class MyClass:\n",
    "    def __init__(self, title, author):\n",
    "        self.title = title\n",
    "        self.author = author\n",
    "\n",
    "    def show(self):\n",
    "        print(f\"Article: {self.title}, Author: {self.author}\")\n",
    "\n",
    "from user52test.models import MyClass as UserClass\n",
    "reload_module('user52test.models')\n",
    "u = UserClass('admin', '123456')\n",
    "u.show()  # 输出: User: admin, Password: 123456\n",
    "\n",
    "from article52test.models import MyClass as ArticleClass\n",
    "reload_module('article52test.models')\n",
    "a = ArticleClass('个人总结', 'zz')\n",
    "a.show()  # 输出: Article: 个人总结, Author: zz\n",
    "\n"
   ],
   "id": "9b0cf9d6561f4e35",
   "outputs": [
    {
     "ename": "ImportError",
     "evalue": "cannot import name 'MyClass' from 'user52test.models' (D:\\Project\\PycharmProject\\Python_Beginner\\user52test\\models.py)",
     "output_type": "error",
     "traceback": [
      "\u001B[1;31m---------------------------------------------------------------------------\u001B[0m",
      "\u001B[1;31mImportError\u001B[0m                               Traceback (most recent call last)",
      "Cell \u001B[1;32mIn[19], line 19\u001B[0m\n\u001B[0;32m     16\u001B[0m     \u001B[38;5;28;01mdef\u001B[39;00m \u001B[38;5;21mshow\u001B[39m(\u001B[38;5;28mself\u001B[39m):\n\u001B[0;32m     17\u001B[0m         \u001B[38;5;28mprint\u001B[39m(\u001B[38;5;124mf\u001B[39m\u001B[38;5;124m\"\u001B[39m\u001B[38;5;124mArticle: \u001B[39m\u001B[38;5;132;01m{\u001B[39;00m\u001B[38;5;28mself\u001B[39m\u001B[38;5;241m.\u001B[39mtitle\u001B[38;5;132;01m}\u001B[39;00m\u001B[38;5;124m, Author: \u001B[39m\u001B[38;5;132;01m{\u001B[39;00m\u001B[38;5;28mself\u001B[39m\u001B[38;5;241m.\u001B[39mauthor\u001B[38;5;132;01m}\u001B[39;00m\u001B[38;5;124m\"\u001B[39m)\n\u001B[1;32m---> 19\u001B[0m \u001B[38;5;28;01mfrom\u001B[39;00m \u001B[38;5;21;01muser52test\u001B[39;00m\u001B[38;5;21;01m.\u001B[39;00m\u001B[38;5;21;01mmodels\u001B[39;00m \u001B[38;5;28;01mimport\u001B[39;00m MyClass \u001B[38;5;28;01mas\u001B[39;00m UserClass\n\u001B[0;32m     20\u001B[0m reload_module(\u001B[38;5;124m'\u001B[39m\u001B[38;5;124muser52test.models\u001B[39m\u001B[38;5;124m'\u001B[39m)\n\u001B[0;32m     21\u001B[0m u \u001B[38;5;241m=\u001B[39m UserClass(\u001B[38;5;124m'\u001B[39m\u001B[38;5;124madmin\u001B[39m\u001B[38;5;124m'\u001B[39m, \u001B[38;5;124m'\u001B[39m\u001B[38;5;124m123456\u001B[39m\u001B[38;5;124m'\u001B[39m)\n",
      "\u001B[1;31mImportError\u001B[0m: cannot import name 'MyClass' from 'user52test.models' (D:\\Project\\PycharmProject\\Python_Beginner\\user52test\\models.py)"
     ]
    }
   ],
   "execution_count": 19
  },
  {
   "metadata": {},
   "cell_type": "markdown",
   "source": [
    "绝对导入和相对导入(以下两段都是不可以运行的):\n",
    "模块之间调用,是可以用相对导入的,(但建议是绝对导入)如果主程序中有__name__==__main__的 ,这个py文件称为顶级脚本,顶级脚本导入 只能用绝对导入.   点 .models  的点表示从和本文件所处目录相同的目录下导入,即相对路径.\n",
    "\n",
    "总结三种方式\n",
    "from 包 import 模块\n",
    "from 包.模块 import 类/函数/变量\n",
    "from 包.模块 import *   (在那个模块里添加__all__)=['User']   __all__仅在*时候有用,两个是配合使用的\n"
   ],
   "id": "e6ac7a653d4da668"
  },
  {
   "metadata": {},
   "cell_type": "code",
   "outputs": [],
   "execution_count": null,
   "source": [
    "#相对导入:\n",
    "# main.py\n",
    "from .user52test.models import MyClass as UserClass  # 这将导致错误\n",
    "from .article52test.models import MyClass as ArticleClass  # 这也将导致错误\n",
    "\n",
    "if __name__ == \"__main__\":\n",
    "    u = UserClass('admin', '123456')\n",
    "    u.show()\n",
    "\n",
    "    a = ArticleClass('个人总结', 'zz')\n",
    "    a.show()\n"
   ],
   "id": "34f0e218590a1497"
  },
  {
   "metadata": {},
   "cell_type": "code",
   "outputs": [],
   "execution_count": null,
   "source": [
    "# main.py   绝对导入\n",
    "from user52test.models import MyClass as UserClass\n",
    "from article52test.models import MyClass as ArticleClass\n",
    "\n",
    "if __name__ == \"__main__\":\n",
    "    u = UserClass('admin', '123456')\n",
    "    u.show()\n",
    "\n",
    "    a = ArticleClass('个人总结', 'zz')\n",
    "    a.show()\n"
   ],
   "id": "f554bac96e444672"
  },
  {
   "metadata": {},
   "cell_type": "code",
   "outputs": [],
   "execution_count": null,
   "source": "",
   "id": "9a74963b707811f0"
  }
 ],
 "metadata": {
  "kernelspec": {
   "display_name": "Python 3",
   "language": "python",
   "name": "python3"
  },
  "language_info": {
   "codemirror_mode": {
    "name": "ipython",
    "version": 2
   },
   "file_extension": ".py",
   "mimetype": "text/x-python",
   "name": "python",
   "nbconvert_exporter": "python",
   "pygments_lexer": "ipython2",
   "version": "2.7.6"
  }
 },
 "nbformat": 4,
 "nbformat_minor": 5
}
