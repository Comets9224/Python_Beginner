{
 "cells": [
  {
   "metadata": {
    "ExecuteTime": {
     "end_time": "2024-07-22T20:35:05.559989Z",
     "start_time": "2024-07-22T20:35:05.553775Z"
    }
   },
   "cell_type": "code",
   "source": [
    "class Person:\n",
    "    name='张三'\n",
    "    def __init__(self,name,age):\n",
    "        self.name=name\n",
    "        self.age=age\n",
    "\n",
    "    def eat(self,food):\n",
    "        print('{}正在吃{}!'.format(self.name,food))\n",
    "\n",
    "    def run(self):\n",
    "        print('{},今年{}岁,正在跑步'.format(self.name,self.age))\n",
    "#如果是需要初始化就传参数，必须要通过__init__  ,其他情况可以自由传入 通过调用方法\n",
    "p=Person('张三',15)   #默认会执行init  但是没传参   创建类,默认会传到init中\n",
    "\n",
    "p.run()#只要创建对象的时候,传了值,就会送到init里去,init是魔术方法,传进来自己会赋值\n",
    "#魔术方法能传参,那么内部普通方法也能传\n",
    "\n",
    "p.eat('狮子头')  #直接调eat不行,因为eat在类里,需要通过对象p调用eat\n",
    "    "
   ],
   "id": "2c7001ee5792a8a2",
   "outputs": [
    {
     "name": "stdout",
     "output_type": "stream",
     "text": [
      "张三,今年15岁,正在跑步\n",
      "张三正在吃狮子头!\n"
     ]
    }
   ],
   "execution_count": 5
  },
  {
   "metadata": {
    "ExecuteTime": {
     "end_time": "2024-07-22T21:03:55.103957Z",
     "start_time": "2024-07-22T21:03:55.096005Z"
    }
   },
   "cell_type": "code",
   "source": [
    "class MyClass:\n",
    "    class_attribute = '类属性'\n",
    "\n",
    "    def __init__(self, instance_attribute):\n",
    "        self.instance_attribute = instance_attribute\n",
    "\n",
    "    def instance_method(self):\n",
    "        print(f'这是实例方法，访问实例属性：{self.instance_attribute}')\n",
    "        # 通过实例的 __class__ 属性调用类方法\n",
    "        self.__class__.class_method()\n",
    "\n",
    "    @classmethod\n",
    "    def class_method(cls):\n",
    "        print(f'这是类方法，访问类属性：{cls.class_attribute}')\n",
    "\n",
    "# 创建实例\n",
    "obj = MyClass('实例属性')\n",
    "\n",
    "# 调用实例方法\n",
    "obj.instance_method()\n"
   ],
   "id": "43eb1c2cbf2405dd",
   "outputs": [
    {
     "name": "stdout",
     "output_type": "stream",
     "text": [
      "这是实例方法，访问实例属性：实例属性\n",
      "这是类方法，访问类属性：类属性\n"
     ]
    }
   ],
   "execution_count": 7
  },
  {
   "metadata": {
    "ExecuteTime": {
     "end_time": "2024-07-22T21:44:51.898779Z",
     "start_time": "2024-07-22T21:44:51.890867Z"
    }
   },
   "cell_type": "code",
   "source": [
    "class Dog:\n",
    "    age = 2\n",
    "    def __init__(self,nickname):\n",
    "\n",
    "        self.nickname=nickname   #动态添加属性,动态添加是添加到对象的属性地址里\n",
    "\n",
    "    def run(self):      #self ---依赖于对象,类方法是不需要对象都能调用的,类方法是类cls去调用的\n",
    "        print('{}在院子里跑来跑去！'.format(self.nickname))\n",
    "    def eat(self):\n",
    "        print('在吃饭......')\n",
    "        self.run()\n",
    "    @classmethod\n",
    "    def test(cls):#cls\n",
    "        print(cls)\n",
    "        print(cls.age)\n",
    "        d=Dog('大黄')\n",
    "d=Dog('大黄')\n",
    "d.run()\n",
    "d.test()     #类里面有方法test，所以能往上调\n",
    "print('--------------')\n",
    "Dog.test()\n",
    "d.eat()  "
   ],
   "id": "ee1244a35b9fbdf1",
   "outputs": [
    {
     "name": "stdout",
     "output_type": "stream",
     "text": [
      "大黄在院子里跑来跑去！\n",
      "<class '__main__.Dog'>\n",
      "2\n",
      "--------------\n",
      "<class '__main__.Dog'>\n",
      "2\n",
      "在吃饭......\n",
      "大黄在院子里跑来跑去！\n"
     ]
    }
   ],
   "execution_count": 1
  },
  {
   "metadata": {
    "ExecuteTime": {
     "end_time": "2024-07-22T22:40:15.821859Z",
     "start_time": "2024-07-22T22:40:15.813633Z"
    }
   },
   "cell_type": "code",
   "source": [
    "\n",
    "class Person:\n",
    "    __age = 18  # 私有化__方式调用.   调用也要用__age去调用   /__age不同于age了\n",
    "\n",
    "    def __init__(self):\n",
    "        name = 'jack'\n",
    "\n",
    "    def show(self):\n",
    "        print('-------->', Person.age)\n",
    "\n",
    "    @classmethod\n",
    "    def test(cls):\n",
    "        print('class -------------->method')\n",
    "\n",
    "    @classmethod\n",
    "    def showage(cls):\n",
    "        print('查看私有化的类的年龄age--->{}'.format(Person.__age))\n",
    "\n",
    "    @staticmethod\n",
    "    def test():  # 既没有cls 也没有self\n",
    "        print('--------->静态方法')\n",
    "        # print(self.name)语法错误,静态没有对象,self不能用在这,对象不能用,但是能用类名\n",
    "        print(Person.__age)  # 是能够打印的,只不过,原来是cls.__age ,现在没有cls,就人工改成Person\n",
    "\n",
    "#print(Person.__age)\n",
    "Person.showage()"
   ],
   "id": "ac530ed580ba137c",
   "outputs": [
    {
     "name": "stdout",
     "output_type": "stream",
     "text": [
      "查看私有化的类的年龄age--->18\n"
     ]
    }
   ],
   "execution_count": 3
  },
  {
   "metadata": {},
   "cell_type": "markdown",
   "source": "",
   "id": "f9d68fe0d6be39c9"
  },
  {
   "metadata": {},
   "cell_type": "code",
   "outputs": [],
   "execution_count": null,
   "source": "",
   "id": "33d14eec98afb1f4"
  }
 ],
 "metadata": {
  "kernelspec": {
   "display_name": "Python 3",
   "language": "python",
   "name": "python3"
  },
  "language_info": {
   "codemirror_mode": {
    "name": "ipython",
    "version": 2
   },
   "file_extension": ".py",
   "mimetype": "text/x-python",
   "name": "python",
   "nbconvert_exporter": "python",
   "pygments_lexer": "ipython2",
   "version": "2.7.6"
  }
 },
 "nbformat": 4,
 "nbformat_minor": 5
}
