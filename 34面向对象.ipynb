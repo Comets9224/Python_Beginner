{
 "cells": [
  {
   "metadata": {
    "ExecuteTime": {
     "end_time": "2024-08-12T05:00:08.430784Z",
     "start_time": "2024-08-12T05:00:08.412889Z"
    }
   },
   "cell_type": "code",
   "source": [
    "class Person:\n",
    "    name='张三'\n",
    "    def __init__(self,name,age):\n",
    "        self.name=name\n",
    "        self.age=age\n",
    "\n",
    "    def eat(self,food):\n",
    "        print('{}正在吃{}!'.format(self.name,food))\n",
    "\n",
    "    def run(self):\n",
    "        print('{},今年{}岁,正在跑步'.format(self.name,self.age))\n",
    "#如果是需要初始化就传参数，必须要通过__init__  ,其他情况可以自由传入 通过调用方法\n",
    "p=Person('张三',15)   #默认会执行init  但是没传参   创建类,默认会传到init中\n",
    "\n",
    "p.run()#只要创建对象的时候,传了值,就会送到init里去,init是魔术方法,传进来自己会赋值\n",
    "#魔术方法能传参,那么内部普通方法也能传\n",
    "\n",
    "p.eat('狮子头')  #直接调eat不行,因为eat在类里,需要通过对象p调用eat\n",
    "p\n",
    "    "
   ],
   "id": "2c7001ee5792a8a2",
   "outputs": [
    {
     "name": "stdout",
     "output_type": "stream",
     "text": [
      "张三,今年15岁,正在跑步\n",
      "张三正在吃狮子头!\n"
     ]
    },
    {
     "data": {
      "text/plain": [
       "<__main__.Person at 0x2496feb9090>"
      ]
     },
     "execution_count": 1,
     "metadata": {},
     "output_type": "execute_result"
    }
   ],
   "execution_count": 1
  },
  {
   "metadata": {
    "ExecuteTime": {
     "end_time": "2024-08-12T05:00:08.441752Z",
     "start_time": "2024-08-12T05:00:08.435789Z"
    }
   },
   "cell_type": "code",
   "source": [
    "class MyClass:\n",
    "    class_attribute = '类属性'\n",
    "\n",
    "    def __init__(self, instance_attribute):\n",
    "        self.instance_attribute = instance_attribute\n",
    "\n",
    "    def instance_method(self):\n",
    "        print(f'这是实例方法，访问实例属性：{self.instance_attribute}')\n",
    "        # 通过实例的 __class__ 属性调用类方法\n",
    "        self.__class__.class_method()\n",
    "\n",
    "    @classmethod\n",
    "    def class_method(cls):\n",
    "        print(f'这是类方法，访问类属性：{cls.class_attribute}')\n",
    "\n",
    "# 创建实例\n",
    "obj = MyClass('实例属性')"
   ],
   "id": "6d8be3506d106ca8",
   "outputs": [],
   "execution_count": 2
  },
  {
   "metadata": {
    "ExecuteTime": {
     "end_time": "2024-08-12T05:00:08.456274Z",
     "start_time": "2024-08-12T05:00:08.449758Z"
    }
   },
   "cell_type": "code",
   "source": [
    "\n",
    "# 调用实例方法\n",
    "obj.instance_method()"
   ],
   "id": "25bd0eb2e57dc842",
   "outputs": [
    {
     "name": "stdout",
     "output_type": "stream",
     "text": [
      "这是实例方法，访问实例属性：实例属性\n",
      "这是类方法，访问类属性：类属性\n"
     ]
    }
   ],
   "execution_count": 3
  },
  {
   "metadata": {
    "ExecuteTime": {
     "end_time": "2024-08-12T05:00:08.481744Z",
     "start_time": "2024-08-12T05:00:08.476279Z"
    }
   },
   "cell_type": "code",
   "source": [
    "class Dog:\n",
    "    age = 2\n",
    "    def __init__(self,nickname):\n",
    "\n",
    "        self.nickname=nickname   #动态添加属性,动态添加是添加到对象的属性地址里\n",
    "\n",
    "    def run(self):      #self ---依赖于对象,类方法是不需要对象都能调用的,类方法是类cls去调用的\n",
    "        print('{}在院子里跑来跑去！'.format(self.nickname))\n",
    "    def eat(self):\n",
    "        print('在吃饭......')\n",
    "        self.run()\n",
    "    @classmethod\n",
    "    def test(cls):#cls\n",
    "        print(cls)\n",
    "        print(cls.age)\n",
    "        d=Dog('大黄')\n",
    "d=Dog('大黄')\n",
    "d.run()\n",
    "d.test()     #类里面有方法test，所以能往上调\n",
    "print('--------------')\n",
    "Dog.test()\n",
    "d.eat()  "
   ],
   "id": "ee1244a35b9fbdf1",
   "outputs": [
    {
     "name": "stdout",
     "output_type": "stream",
     "text": [
      "大黄在院子里跑来跑去！\n",
      "<class '__main__.Dog'>\n",
      "2\n",
      "--------------\n",
      "<class '__main__.Dog'>\n",
      "2\n",
      "在吃饭......\n",
      "大黄在院子里跑来跑去！\n"
     ]
    }
   ],
   "execution_count": 4
  },
  {
   "metadata": {
    "ExecuteTime": {
     "end_time": "2024-08-12T05:00:08.521107Z",
     "start_time": "2024-08-12T05:00:08.514749Z"
    }
   },
   "cell_type": "code",
   "source": [
    "\n",
    "class Person:\n",
    "    __age = 18  # 私有化__方式调用.   调用也要用__age去调用   /__age不同于age了\n",
    "\n",
    "    def __init__(self):\n",
    "        name = 'jack'\n",
    "\n",
    "    def show(self):\n",
    "        print('-------->', Person.age)\n",
    "    def show_age(self):\n",
    "        print('-------->', Person.__age)\n",
    "\n",
    "    @classmethod\n",
    "    def test(cls):\n",
    "        print('class -------------->method')\n",
    "\n",
    "    @classmethod\n",
    "    def showage(cls):\n",
    "        print('查看私有化的类的年龄age--->{}'.format(Person.__age))\n",
    "\n",
    "    @staticmethod\n",
    "    def test():  # 既没有cls 也没有self\n",
    "        print('--------->静态方法')\n",
    "        # print(self.name)语法错误,静态没有对象,self不能用在这,对象不能用,但是能用类名\n",
    "        print(Person.__age)  # 是能够打印的,只不过,原来是cls.__age ,现在没有cls,就人工改成Person"
   ],
   "id": "f4c185f47707636c",
   "outputs": [],
   "execution_count": 5
  },
  {
   "metadata": {
    "ExecuteTime": {
     "end_time": "2024-08-12T05:00:08.551567Z",
     "start_time": "2024-08-12T05:00:08.548112Z"
    }
   },
   "cell_type": "code",
   "source": [
    "p=Person()\n",
    "#p.show()#访问不到age  因为已经是__age了"
   ],
   "id": "5eb964d274f5c88a",
   "outputs": [],
   "execution_count": 6
  },
  {
   "metadata": {
    "ExecuteTime": {
     "end_time": "2024-08-12T05:00:08.630001Z",
     "start_time": "2024-08-12T05:00:08.624572Z"
    }
   },
   "cell_type": "code",
   "source": "p.show_age()  #不只私有化 ",
   "id": "42c1993f874de3fc",
   "outputs": [
    {
     "name": "stdout",
     "output_type": "stream",
     "text": [
      "--------> 18\n"
     ]
    }
   ],
   "execution_count": 7
  },
  {
   "metadata": {
    "ExecuteTime": {
     "end_time": "2024-08-12T05:00:08.674163Z",
     "start_time": "2024-08-12T05:00:08.672123Z"
    }
   },
   "cell_type": "code",
   "source": "",
   "id": "1da56ab7bf93c48a",
   "outputs": [],
   "execution_count": 7
  },
  {
   "metadata": {
    "ExecuteTime": {
     "end_time": "2024-08-12T05:00:08.709720Z",
     "start_time": "2024-08-12T05:00:08.706708Z"
    }
   },
   "cell_type": "code",
   "source": [
    "#print(Person.__age)\n",
    "#Person.showage()"
   ],
   "id": "ac530ed580ba137c",
   "outputs": [],
   "execution_count": 8
  }
 ],
 "metadata": {
  "kernelspec": {
   "display_name": "Python 3",
   "language": "python",
   "name": "python3"
  },
  "language_info": {
   "codemirror_mode": {
    "name": "ipython",
    "version": 2
   },
   "file_extension": ".py",
   "mimetype": "text/x-python",
   "name": "python",
   "nbconvert_exporter": "python",
   "pygments_lexer": "ipython2",
   "version": "2.7.6"
  }
 },
 "nbformat": 4,
 "nbformat_minor": 5
}
