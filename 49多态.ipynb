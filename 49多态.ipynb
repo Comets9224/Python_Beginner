{
 "cells": [
  {
   "metadata": {},
   "cell_type": "markdown",
   "source": "没有重载的概念,只有重写的概念,下面有重名的,就会重写,以后面的为准",
   "id": "6cc0a55b5c5c5716"
  },
  {
   "cell_type": "code",
   "id": "initial_id",
   "metadata": {
    "collapsed": true,
    "ExecuteTime": {
     "end_time": "2024-07-23T16:57:53.358116Z",
     "start_time": "2024-07-23T16:57:53.353141Z"
    }
   },
   "source": [
    "class Person:\n",
    "    def __init__(self, name):\n",
    "        self.name=name\n",
    "    def eat(self):\n",
    "        print('eating')\n",
    "    def eat(self,food):\n",
    "        print(f'---------->eat:{food}')\n",
    "p=Person('jack')\n",
    "\n",
    "p.eat('狮子头')  #当写了两个同名的,会被重写,只执行下面的这个"
   ],
   "outputs": [
    {
     "name": "stdout",
     "output_type": "stream",
     "text": [
      "---------->eat:狮子头\n",
      "jack\n"
     ]
    }
   ],
   "execution_count": 5
  },
  {
   "metadata": {},
   "cell_type": "markdown",
   "source": "python里 可以一个儿子多个爹,即多重继承",
   "id": "6b256d656d060569"
  },
  {
   "metadata": {
    "ExecuteTime": {
     "end_time": "2024-07-23T17:05:53.372937Z",
     "start_time": "2024-07-23T17:05:53.368248Z"
    }
   },
   "cell_type": "code",
   "source": [
    "class B:\n",
    "    def test1(self):\n",
    "        print('-------->B')\n",
    "\n",
    "class A:\n",
    "    def test1(self):\n",
    "        print('-------->A')\n",
    "\n",
    "class C(B,A):   #谁在前 先调用谁的    顺序在后的                                    不覆盖\n",
    "    def test2(self):\n",
    "        print('-------->C')\n",
    "c=C()\n",
    "c.test1()\n",
    "c.test2()"
   ],
   "id": "84bc6ae7fcc7c14",
   "outputs": [
    {
     "name": "stdout",
     "output_type": "stream",
     "text": [
      "-------->B\n",
      "-------->C\n"
     ]
    }
   ],
   "execution_count": 16
  },
  {
   "metadata": {},
   "cell_type": "markdown",
   "source": "如果 在自己类里的名字是test  其他本来test1,test2 也变成test,此时调test,打印的就是本身c  优先自己类里有的",
   "id": "f400e13684cea159"
  },
  {
   "metadata": {
    "ExecuteTime": {
     "end_time": "2024-07-23T17:08:44.801347Z",
     "start_time": "2024-07-23T17:08:44.796844Z"
    }
   },
   "cell_type": "code",
   "source": [
    "class B:\n",
    "    def test(self):\n",
    "        print('-------->B')\n",
    "\n",
    "class A:\n",
    "    def test(self):\n",
    "        print('-------->A')\n",
    "\n",
    "class C(B,A):   #谁在前 先调用谁的    顺序在后的                                    不覆盖\n",
    "    def test(self):\n",
    "        print('-------->C')\n",
    "c=C()\n",
    "c.test()\n"
   ],
   "id": "f205c7d7e66f53de",
   "outputs": [
    {
     "name": "stdout",
     "output_type": "stream",
     "text": [
      "-------->C\n"
     ]
    }
   ],
   "execution_count": 20
  },
  {
   "metadata": {},
   "cell_type": "markdown",
   "source": [
    "新建一个Base类 让ABC都继承Base  再让D去继承ABC\n",
    "多继承 MRO顺序，广度优先\n",
    "def 子类(父类1,父类2,....):\n",
    "    pass\n",
    "如果父类中,有相同名称方法,搜索顺序:"
   ],
   "id": "792ac700dd6b4883"
  },
  {
   "metadata": {
    "ExecuteTime": {
     "end_time": "2024-07-23T17:19:30.596378Z",
     "start_time": "2024-07-23T17:19:30.591243Z"
    }
   },
   "cell_type": "code",
   "source": [
    "class Base:\n",
    "    def test(self):\n",
    "        print('-------->Base')\n",
    "class A(Base):\n",
    "    def test(self):\n",
    "        print('-------->A')\n",
    "class B(Base):\n",
    "    def test(self):\n",
    "        print('-------->B')\n",
    "\n",
    "class C(Base):   #谁在前 先调用谁的    顺序在后                                   不覆盖\n",
    "    def test(self):\n",
    "        print('-------->C')\n",
    "class D(A,B,C):   #谁在前先调用谁,往上继承,就近原则,找到就不往上了,涉及搜索顺序\n",
    "    pass\n",
    "    # def test(self):\n",
    "    #     print('-------->D')\n",
    "\n",
    "d=D()\n",
    "d.test()\n",
    "import inspect\n",
    "#print(inspect.getmembers(D,inspect.isclass))\n",
    "print(inspect.getmro(D))#用于查搜索顺序"
   ],
   "id": "a9c09a1f272c5ba7",
   "outputs": [
    {
     "name": "stdout",
     "output_type": "stream",
     "text": [
      "-------->A\n",
      "(<class '__main__.D'>, <class '__main__.A'>, <class '__main__.B'>, <class '__main__.C'>, <class '__main__.Base'>, <class 'object'>)\n"
     ]
    }
   ],
   "execution_count": 30
  },
  {
   "metadata": {},
   "cell_type": "markdown",
   "source": [
    "经典类:确实是深度优先 python2这样用\n",
    "观察结果：其实是python3的结果  结果是广度优先\n",
    "\n",
    "继承代码:  同级的  括号前面的优先\n",
    "不同级的  越接近的那层优先     \n"
   ],
   "id": "fa0d3cef34d672ec"
  },
  {
   "metadata": {
    "ExecuteTime": {
     "end_time": "2024-07-23T17:43:47.786681Z",
     "start_time": "2024-07-23T17:43:47.782103Z"
    }
   },
   "cell_type": "code",
   "source": [
    "class P1:\n",
    "    def foo(self):\n",
    "        print('p1.foo')\n",
    "class P2:\n",
    "    def foo(self):\n",
    "        print('p2.foo')\n",
    "class C1(P1,P2):\n",
    "    pass\n",
    "    # def foo(self):\n",
    "    #     print('c1.foo')\n",
    "class C2(P1,P2):\n",
    "    def bar(self):\n",
    "        print('C2.bar')\n",
    "class D(C1,C2):\n",
    "    pass\n",
    "d=D()\n",
    "#print(D.mro())#查看运行继承的顺序\n",
    "print(D.__mro__)\n",
    "d.foo()\n",
    "d.bar()"
   ],
   "id": "567a67f62b6ffc9d",
   "outputs": [
    {
     "name": "stdout",
     "output_type": "stream",
     "text": [
      "(<class '__main__.D'>, <class '__main__.C1'>, <class '__main__.C2'>, <class '__main__.P1'>, <class '__main__.P2'>, <class 'object'>)\n",
      "p1.foo\n",
      "C2.bar\n"
     ]
    }
   ],
   "execution_count": 35
  },
  {
   "metadata": {},
   "cell_type": "markdown",
   "source": [
    "P1,P2继承到object  成了新式类\n",
    "新式类：广度优先，发现两者结果没区别，因为python3 ，搜索结果没区别  实际上是\n",
    "\n",
    "总结，继承到object 是新式类 广度优先\n",
    "    经典类深度优先\n",
    "深度和广度，如果其他都找不到，最后才会找到object   ，无论怎样 object都是最后的。\n",
    "\n",
    "\n",
    "深度优先广度优先是这么说的：从左到右，深度优先或者从左到右，广度优先。\n",
    "\n",
    "python3统一广度优先"
   ],
   "id": "5f08c580deb5801f"
  },
  {
   "metadata": {
    "ExecuteTime": {
     "end_time": "2024-07-23T17:49:02.548685Z",
     "start_time": "2024-07-23T17:49:02.544130Z"
    }
   },
   "cell_type": "code",
   "source": [
    "class P1(object):\n",
    "    def foo(self):\n",
    "        print('p1.foo')\n",
    "class P2(object):\n",
    "    def foo(self):\n",
    "        print('p2.foo')\n",
    "class C1(P1,P2):\n",
    "    pass\n",
    "    # def foo(self):\n",
    "    #     print('c1.foo')\n",
    "class C2(P1,P2):\n",
    "    def bar(self):\n",
    "        print('C2.bar')\n",
    "class D(C1,C2):\n",
    "    pass\n",
    "d=D()\n",
    "#print(D.mro())#查看运行继承的顺序\n",
    "print(D.__mro__)   #新式类默认有__mro__  老式类没有,就需要导入inspect\n",
    "d.foo()\n",
    "d.bar()"
   ],
   "id": "ad0edfaac5fdae0f",
   "outputs": [
    {
     "name": "stdout",
     "output_type": "stream",
     "text": [
      "(<class '__main__.D'>, <class '__main__.C1'>, <class '__main__.C2'>, <class '__main__.P1'>, <class '__main__.P2'>, <class 'object'>)\n",
      "p1.foo\n",
      "C2.bar\n"
     ]
    }
   ],
   "execution_count": 36
  },
  {
   "metadata": {},
   "cell_type": "markdown",
   "source": [
    "python中没有明显的多态概念\n",
    " 封装 继承  多态--->是面向对象的特点\n",
    "\n",
    "多态其他版本意思是,只能接受Pet类以及Pet的子类   python需要自己加判断  用isinstance判断 是否是需要的类和子类   isinstance就判断 是否是类 或者其子类对象。\n",
    "\n",
    "本来喂宠物  里面只能传一个cat或者dog,但是由于继承,让cat和dog成为Pet的子类，这样扩大了可养的宠物范围"
   ],
   "id": "5124bd5462b3646"
  },
  {
   "metadata": {
    "ExecuteTime": {
     "end_time": "2024-07-23T19:17:56.001934Z",
     "start_time": "2024-07-23T19:17:55.995525Z"
    }
   },
   "cell_type": "code",
   "source": [
    "class Person:\n",
    "    def __init__(self, name):\n",
    "        self.name=name\n",
    "    def feed_pet(self,pet):\n",
    "        if isinstance(pet,Pet):  #Pet是类 判断传进来的pet是不是Pet类的  pet既可以传入猫类,也可以传入狗类,没有严格的多态,甚至能传入tiger\n",
    "            print(f'{self.name}喜欢养宠物{pet.role}昵称是{pet.name}')\n",
    "        else:\n",
    "            print('不是宠物类型不能养')\n",
    "class Pet:\n",
    "    role='Pet'\n",
    "    def __init__(self,name,age):\n",
    "        self.name=name\n",
    "        self.age=age\n",
    "    def show(self):\n",
    "        print(self.name, self.age)\n",
    "class Cat(Pet):\n",
    "    role='Cat'\n",
    "    def catch_mouse(self):\n",
    "        print('抓老鼠')\n",
    "class Dog(Pet):\n",
    "    role='Dog'\n",
    "    def watch_house(self):\n",
    "        print('看家高手')\n",
    "class Tiger:\n",
    "    def eat(self):\n",
    "        print('太可怕了,会吃人')\n",
    "cat=Cat('花花',2)\n",
    "dog=Dog('大黄',4)\n",
    "tiger=Tiger()\n",
    "person=Person('zxx')\n",
    "person.feed_pet(cat)\n",
    "person2=Person('pp')\n",
    "person2.feed_pet(tiger)"
   ],
   "id": "6a0be85b9761c5db",
   "outputs": [
    {
     "name": "stdout",
     "output_type": "stream",
     "text": [
      "zxx喜欢养宠物Cat昵称是花花\n",
      "不是宠物类型不能养\n"
     ]
    }
   ],
   "execution_count": 44
  },
  {
   "metadata": {},
   "cell_type": "markdown",
   "source": [
    "私有化的属性 无法父类继承\n",
    "self.__money =200\n",
    "在另一子类中打印 是打印不出的\n",
    "但可以在父类中  定义一方法 打印父类的私有化属性  这个方法可以继承\n"
   ],
   "id": "ef655068b32460a"
  }
 ],
 "metadata": {
  "kernelspec": {
   "display_name": "Python 3",
   "language": "python",
   "name": "python3"
  },
  "language_info": {
   "codemirror_mode": {
    "name": "ipython",
    "version": 2
   },
   "file_extension": ".py",
   "mimetype": "text/x-python",
   "name": "python",
   "nbconvert_exporter": "python",
   "pygments_lexer": "ipython2",
   "version": "2.7.6"
  }
 },
 "nbformat": 4,
 "nbformat_minor": 5
}
