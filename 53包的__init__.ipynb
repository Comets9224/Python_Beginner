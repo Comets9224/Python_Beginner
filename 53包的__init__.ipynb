{
 "cells": [
  {
   "metadata": {},
   "cell_type": "markdown",
   "source": [
    "__init__.py文件的作用:当导入包的时候,首先会走__init__.py这个文件,文件里不管有啥,默认就会执行.  可以在init中写一些需要调到的包或者模块  也就是说,类似C的头文件\n",
    "放在models还是 __init__其实是一样的\n"
   ],
   "id": "955169d96cda723b"
  },
  {
   "metadata": {},
   "cell_type": "markdown",
   "source": "",
   "id": "afdc46fb7252588c"
  },
  {
   "metadata": {},
   "cell_type": "markdown",
   "source": [
    "由于这个函数写在init  不需要from导入想13行这个写全,只要import 包名  即可\n",
    "init作用: 1.此文件init中函数,变量等的访问,只需要通过包名.函数 即可\n",
    "\n",
    "2.到init中写__all__  才能表明 向外暴露的    跟__all__在 模块内写的是反的\n",
    "在模块中所有的都可访问,  __all__是起到限制作用,限制哪些不让访问.\n",
    "而init文件中,所有的都不可访问  __all__里的才能让你访问  __all__里的和对应模块里的内容是对应的  比如 __all__=['models'],  models是模块名  也是用于import * 的情况  *代表的是所有的模块\n",
    "\n",
    "form 包 import *  表示该包中内容 (模块)是不能访问的,__all__使其允许访问\n",
    "\n",
    "3.通过导入*可以访问的模块 配合__all__=[通过*可导入的模块]\n",
    "\n",
    "         "
   ],
   "id": "99c7c595f8e09bd8"
  },
  {
   "metadata": {
    "ExecuteTime": {
     "end_time": "2024-07-24T17:13:42.205889Z",
     "start_time": "2024-07-24T17:13:42.198274Z"
    }
   },
   "cell_type": "code",
   "source": [
    "import importlib\n",
    "import sys\n",
    "def reload_module(module_name):\n",
    "    if module_name in sys.modules:\n",
    "        importlib.reload(sys.modules[module_name])\n",
    "    else:\n",
    "        __import__(module_name)\n",
    "\n",
    "\n",
    "reload_module('user52test') \n",
    "\n",
    "import user52test  #访问init  不需要细分到其中的某个模块导入\n",
    "#from user52test.models import User\n",
    "\n",
    "user52test.creat_app() \n",
    "from user52test import *   #包里的东西指的是包里的所有模块,而不是\n",
    "# 明明包名都扔进去了,应该是整个包里的东西都能访问 :原因 __all__在init里说反选的\n",
    "print(test.MAX)\n"
   ],
   "id": "8ea0518a3edde8f4",
   "outputs": [
    {
     "name": "stdout",
     "output_type": "stream",
     "text": [
      "user init package\n",
      "create app\n",
      "100\n"
     ]
    }
   ],
   "execution_count": 12
  },
  {
   "metadata": {
    "ExecuteTime": {
     "end_time": "2024-07-24T16:43:15.110785Z",
     "start_time": "2024-07-24T16:43:15.108847Z"
    }
   },
   "cell_type": "code",
   "source": "",
   "id": "f34495cfebc6f348",
   "outputs": [],
   "execution_count": 2
  },
  {
   "metadata": {},
   "cell_type": "code",
   "outputs": [],
   "execution_count": null,
   "source": "",
   "id": "4e8c2f5f60787884"
  },
  {
   "metadata": {},
   "cell_type": "markdown",
   "source": "",
   "id": "7a40cc19de2fc9e9"
  }
 ],
 "metadata": {
  "kernelspec": {
   "display_name": "Python 3",
   "language": "python",
   "name": "python3"
  },
  "language_info": {
   "codemirror_mode": {
    "name": "ipython",
    "version": 2
   },
   "file_extension": ".py",
   "mimetype": "text/x-python",
   "name": "python",
   "nbconvert_exporter": "python",
   "pygments_lexer": "ipython2",
   "version": "2.7.6"
  }
 },
 "nbformat": 4,
 "nbformat_minor": 5
}
