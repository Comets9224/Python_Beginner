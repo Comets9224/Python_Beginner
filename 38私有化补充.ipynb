{
 "cells": [
  {
   "metadata": {},
   "cell_type": "markdown",
   "source": [
    "如果没有继承父类,父类有参数,子类没继承,在创建对象时,\n",
    "s=Student(canshu)   需要往里传参数了\n"
   ],
   "id": "daf12800a6e53576"
  },
  {
   "cell_type": "code",
   "id": "initial_id",
   "metadata": {
    "collapsed": true,
    "ExecuteTime": {
     "end_time": "2024-07-23T18:17:44.534644Z",
     "start_time": "2024-07-23T18:17:44.530486Z"
    }
   },
   "source": [
    "class Student:\n",
    "    def __init__(self, age):\n",
    "        self.__age = age\n",
    "\n",
    "    @property\n",
    "    def age(self):\n",
    "        return self.__age\n",
    "\n",
    "    @age.setter\n",
    "    def age(self, age):\n",
    "        self.__age = age\n",
    "\n",
    "\n",
    "s = Student(20)\n",
    "s.age = 10\n",
    "print(s.age)\n"
   ],
   "outputs": [
    {
     "name": "stdout",
     "output_type": "stream",
     "text": [
      "10\n"
     ]
    }
   ],
   "execution_count": 2
  }
 ],
 "metadata": {
  "kernelspec": {
   "display_name": "Python 3",
   "language": "python",
   "name": "python3"
  },
  "language_info": {
   "codemirror_mode": {
    "name": "ipython",
    "version": 2
   },
   "file_extension": ".py",
   "mimetype": "text/x-python",
   "name": "python",
   "nbconvert_exporter": "python",
   "pygments_lexer": "ipython2",
   "version": "2.7.6"
  }
 },
 "nbformat": 4,
 "nbformat_minor": 5
}
